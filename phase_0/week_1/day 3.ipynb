{
 "cells": [
  {
   "cell_type": "code",
   "execution_count": null,
   "id": "b5fa9b80",
   "metadata": {},
   "outputs": [],
   "source": [
    "# Function definition is here\n",
    "def changeme( mylist ):\n",
    "   '''This changes a passed list into this function'''\n",
    "   mylist = [1, 2, 3, 4] # This would assign new reference in mylist\n",
    "   print(\"Values inside the function  : \", mylist)\n",
    "\n",
    "# Now you can call changeme function\n",
    "mylist = [10, 20, 30]\n",
    "changeme( mylist )\n",
    "print(\"Values outside the function : \", mylist)"
   ]
  },
  {
   "cell_type": "code",
   "execution_count": null,
   "id": "16cef2c0",
   "metadata": {},
   "outputs": [],
   "source": [
    "def fungsi_saya(p, 1):\n",
    "    '''This changes a passed list into this function'''\n",
    "    print(p*1)\n",
    "\n",
    "fungsi_saya(5, 2)"
   ]
  },
  {
   "cell_type": "code",
   "execution_count": null,
   "id": "77ea36ae",
   "metadata": {},
   "outputs": [],
   "source": [
    "def luas_segitiga(alas, tinggi):\n",
    "    luas= (alas* tinggi)/2\n",
    "    print(\"luas segitiga= %.2f\" %luas)\n",
    "\n",
    "luas_segitiga(4,6)"
   ]
  },
  {
   "cell_type": "markdown",
   "id": "94ff8159",
   "metadata": {},
   "source": [
    "##### __key word__"
   ]
  },
  {
   "cell_type": "code",
   "execution_count": null,
   "id": "cf6d9c09",
   "metadata": {},
   "outputs": [],
   "source": [
    "def nama_orang(*nama):\n",
    "    print('teman saya namanya:' + nama[3])\n",
    "    \n",
    "nama_orang(\"irfan\", \"tono\", \"joko\",\"kondo\")"
   ]
  },
  {
   "cell_type": "code",
   "execution_count": null,
   "id": "938ff2dd",
   "metadata": {},
   "outputs": [],
   "source": [
    "def printinfo( name = 'Tanpa Nama', age = 'Malu sama umur?' ):\n",
    "   '''This prints a passed info into this function'''\n",
    "   print(\"Name : \", name)\n",
    "   print(\"Age  : \", age)\n",
    "   print(\"\")\n",
    "\n",
    "# Now you can call printinfo function\n",
    "printinfo( age=50, name=\"hacktiv8\" )\n",
    "printinfo( )"
   ]
  },
  {
   "cell_type": "markdown",
   "id": "374d2780",
   "metadata": {},
   "source": [
    "###### asterik"
   ]
  },
  {
   "cell_type": "code",
   "execution_count": null,
   "id": "cb719a51",
   "metadata": {},
   "outputs": [],
   "source": [
    "def printinfo( arg1, *vartuple ): # aterik tanda (*)\n",
    "# def printinfo(arg1, arg2, arg3, arg4):\n",
    "   '''This prints a variable passed arguments'''\n",
    "   print('arg1     : ', arg1)\n",
    "   print('vartuple : ', vartuple)\n",
    "   print('')\n",
    "   \n",
    "   for var in vartuple:\n",
    "      print('isi vartuple : ', var) \n",
    "\n",
    "# Now you can call printinfo function\n",
    "printinfo( 10 )\n",
    "printinfo( 70, 60, 50, \"a\" )"
   ]
  },
  {
   "cell_type": "code",
   "execution_count": null,
   "id": "d95fd94b",
   "metadata": {},
   "outputs": [],
   "source": [
    "def person_car(total_data, **kwargs):\n",
    "  '''Create a function to print who owns what car'''\n",
    "  print('Total Data : ', total_data)\n",
    "  for key, value in kwargs.items():\n",
    "    print('Person : ', key)\n",
    "    print('Car    : ', value)\n",
    "    print('')\n",
    "\n",
    "person_car(3, jimmy='chevrolet', frank='ford', tina='honda')\n",
    "person_car(3)"
   ]
  },
  {
   "cell_type": "code",
   "execution_count": null,
   "id": "aa078db8",
   "metadata": {},
   "outputs": [],
   "source": [
    "# Function definition is here\n",
    "sum = lambda arg1, arg2: arg1 + arg2\n",
    "\n",
    "# That lambda function will be equal to :\n",
    "# def sum(arg1, arg2):\n",
    "#     return arg1+arg2\n",
    "\n",
    "# Now you can call sum as a function\n",
    "print(\"Value of total : \", sum( 10, 20 ))\n",
    "print(\"Value of total : \", sum( 20, 20 ))"
   ]
  },
  {
   "cell_type": "code",
   "execution_count": null,
   "id": "7ffafe4b",
   "metadata": {},
   "outputs": [],
   "source": [
    "def hitung(x,y):\n",
    "    return x**2+y**2\n",
    "    \n",
    "hitung(2,3)"
   ]
  },
  {
   "cell_type": "code",
   "execution_count": null,
   "id": "53f02dab",
   "metadata": {},
   "outputs": [],
   "source": [
    "hitung = lambda x,y : x**2+y**2\n",
    "hitung(2,3)"
   ]
  },
  {
   "cell_type": "code",
   "execution_count": null,
   "id": "1e7ba5bd",
   "metadata": {},
   "outputs": [],
   "source": [
    "def sum(arg1, arg2):\n",
    "    # Add both the parameters and return them.\"\n",
    "    total = arg1 + arg2\n",
    "    return total\n",
    "\n",
    "# Now you can call sum function\n",
    "total = sum(10, 20)\n",
    "print(\"Result function : \", total)"
   ]
  },
  {
   "cell_type": "code",
   "execution_count": null,
   "id": "ab44a18d",
   "metadata": {},
   "outputs": [],
   "source": [
    "nama = 'tomo'\n",
    "\n",
    "def myfunc():\n",
    "    nama = \"broker\"\n",
    "    print('Saya adalah :', nama)\n",
    "    \n",
    "myfunc()"
   ]
  },
  {
   "cell_type": "code",
   "execution_count": null,
   "id": "107b10cb",
   "metadata": {},
   "outputs": [],
   "source": [
    "nama = 'tomo'\n",
    "\n",
    "def myfunc():\n",
    "    nama = \"broker\"\n",
    "    print('Saya adalah :', nama)\n",
    "    \n",
    "print('Saya adalah :', nama)"
   ]
  },
  {
   "cell_type": "code",
   "execution_count": null,
   "id": "79784840",
   "metadata": {},
   "outputs": [],
   "source": [
    "import Lagi\n",
    "print(Lagi.name)"
   ]
  },
  {
   "cell_type": "code",
   "execution_count": null,
   "id": "954c32ec",
   "metadata": {},
   "outputs": [],
   "source": [
    "Lagi.devices"
   ]
  },
  {
   "cell_type": "code",
   "execution_count": null,
   "id": "6c1a95bf",
   "metadata": {},
   "outputs": [],
   "source": [
    "from Lagi import name #tanpa perlu import devinisi \"name\" dari \"Lagi\"\n",
    "name"
   ]
  },
  {
   "cell_type": "code",
   "execution_count": null,
   "id": "5af2278b",
   "metadata": {},
   "outputs": [],
   "source": [
    "from Lagi import devices \n",
    "devices"
   ]
  },
  {
   "cell_type": "code",
   "execution_count": null,
   "id": "d06c4e6f",
   "metadata": {},
   "outputs": [],
   "source": [
    "name"
   ]
  },
  {
   "cell_type": "code",
   "execution_count": null,
   "id": "0ef3b679",
   "metadata": {},
   "outputs": [],
   "source": [
    "devices"
   ]
  },
  {
   "cell_type": "code",
   "execution_count": null,
   "id": "8edf1513",
   "metadata": {},
   "outputs": [],
   "source": [
    "import Lagi\n",
    "print(Lagi.name)"
   ]
  },
  {
   "cell_type": "code",
   "execution_count": null,
   "id": "b5f74e74",
   "metadata": {},
   "outputs": [],
   "source": [
    "import Lagi\n",
    "display('')"
   ]
  },
  {
   "cell_type": "code",
   "execution_count": null,
   "id": "b7695221",
   "metadata": {},
   "outputs": [],
   "source": [
    "from Lagi import name as n\n",
    "n"
   ]
  },
  {
   "cell_type": "code",
   "execution_count": null,
   "id": "50e47654",
   "metadata": {},
   "outputs": [],
   "source": [
    "n"
   ]
  },
  {
   "cell_type": "code",
   "execution_count": null,
   "id": "cb2e9902",
   "metadata": {},
   "outputs": [],
   "source": [
    "!pip install pandas"
   ]
  },
  {
   "cell_type": "code",
   "execution_count": null,
   "id": "3a42cbe4",
   "metadata": {},
   "outputs": [],
   "source": [
    "import numpy as np"
   ]
  },
  {
   "cell_type": "code",
   "execution_count": null,
   "id": "50eea88f",
   "metadata": {},
   "outputs": [],
   "source": [
    "a = np.array([1, 2, 3])\n",
    "a"
   ]
  },
  {
   "cell_type": "code",
   "execution_count": null,
   "id": "04e4e99b",
   "metadata": {},
   "outputs": [],
   "source": [
    "np.zeros(3)"
   ]
  },
  {
   "cell_type": "code",
   "execution_count": null,
   "id": "0d24bae6",
   "metadata": {},
   "outputs": [],
   "source": [
    "np.ones(2)"
   ]
  },
  {
   "cell_type": "code",
   "execution_count": null,
   "id": "0a8d3d66",
   "metadata": {},
   "outputs": [],
   "source": [
    "np.empty(1)"
   ]
  },
  {
   "cell_type": "code",
   "execution_count": null,
   "id": "a139071d",
   "metadata": {},
   "outputs": [],
   "source": [
    "print(np.arange(4))\n",
    "print(np.arange(1, 30, 20))"
   ]
  },
  {
   "cell_type": "code",
   "execution_count": null,
   "id": "ecbf5e93",
   "metadata": {},
   "outputs": [],
   "source": [
    "print(np.arange(4))\n",
    "print(np.arange(0,10,2)) # (start, stop, step)"
   ]
  },
  {
   "cell_type": "code",
   "execution_count": null,
   "id": "2c8a5c7f",
   "metadata": {},
   "outputs": [],
   "source": [
    "tinggi = [1.73, 1.68, 1.71, 1.86, 1.87]\n",
    "berat = [65.4, 59.2, 63.2, 88.4, 68.7]\n",
    "berat/tinggi**2 #Tanpa Array"
   ]
  },
  {
   "cell_type": "code",
   "execution_count": null,
   "id": "149dea92",
   "metadata": {},
   "outputs": [],
   "source": [
    "tinggi = [1.73, 1.68, 1.71, 1.86, 1.87]\n",
    "berat = [65.4, 59.2, 63.2, 88.4, 68.7]\n",
    "np_tinggi = np.array (tinggi)\n",
    "np_berat = np.array (berat)\n",
    "np_berat/np_tinggi**2"
   ]
  },
  {
   "cell_type": "code",
   "execution_count": null,
   "id": "368fac6f",
   "metadata": {},
   "outputs": [],
   "source": [
    "arr= np.array([1, 2, 3, 4, 5])\n",
    "np.append(arr, [6, 7, 8])"
   ]
  },
  {
   "cell_type": "code",
   "execution_count": null,
   "id": "5d1bb72c",
   "metadata": {},
   "outputs": [],
   "source": [
    "panjang = np.array([1, 2, 4, 5])\n",
    "lebar = np.array([4, 5, 5, 7])\n",
    "\n",
    "luas= panjang*lebar\n",
    "luas"
   ]
  },
  {
   "cell_type": "code",
   "execution_count": null,
   "id": "cd9350f4",
   "metadata": {},
   "outputs": [],
   "source": [
    "np.delete(arr, 3)"
   ]
  },
  {
   "cell_type": "code",
   "execution_count": null,
   "id": "b57cc8ba",
   "metadata": {},
   "outputs": [],
   "source": [
    "array_1 = np.array ([[[1, 2, 3, 4],\n",
    "                    [5, 6, 7, 8]],\n",
    "                    \n",
    "                    [[9, 10, 11, 12],\n",
    "                    [11, 12, 13, 14]],\n",
    "                   \n",
    "                    [[15, 16, 17, 18],\n",
    "                    [19, 20, 21, 22]]],)\n",
    "\n",
    "array_1"
   ]
  },
  {
   "cell_type": "code",
   "execution_count": null,
   "id": "7a6f562d",
   "metadata": {},
   "outputs": [],
   "source": [
    "array_1.ndim"
   ]
  },
  {
   "cell_type": "code",
   "execution_count": null,
   "id": "4a0d49a4",
   "metadata": {},
   "outputs": [],
   "source": [
    "array_1.size"
   ]
  },
  {
   "cell_type": "code",
   "execution_count": null,
   "id": "6a066adc",
   "metadata": {},
   "outputs": [],
   "source": [
    "A = np.array([[0.45053314, 0.17296777, 0.34376245, 0.5510652],\n",
    "              [0.54627315, 0.05093587, 0.40067661, 0.55645993],\n",
    "              [0.12697628, 0.82485143, 0.26590556, 0.56917101]])\n",
    "\n",
    "print(A)"
   ]
  },
  {
   "cell_type": "code",
   "execution_count": null,
   "id": "e2c8ba9d",
   "metadata": {},
   "outputs": [],
   "source": [
    "a = np.arange(6)\n",
    "\n",
    "print(a)"
   ]
  },
  {
   "cell_type": "code",
   "execution_count": null,
   "id": "0ae6bcfa",
   "metadata": {},
   "outputs": [],
   "source": [
    "b = a.reshape(3, 2)\n",
    "\n",
    "print(b)"
   ]
  },
  {
   "cell_type": "code",
   "execution_count": null,
   "id": "74c00d21",
   "metadata": {},
   "outputs": [],
   "source": [
    "a2 = a[np.newaxis]\n",
    "print(a2.shape)\n",
    "print(a2)"
   ]
  },
  {
   "cell_type": "code",
   "execution_count": null,
   "id": "aeb92015",
   "metadata": {},
   "outputs": [],
   "source": [
    "a = np.array([1, 2, 3, 4, 5, 6])\n",
    "a.shape"
   ]
  },
  {
   "cell_type": "code",
   "execution_count": null,
   "id": "48df73cd",
   "metadata": {},
   "outputs": [],
   "source": [
    "b = np.expand_dims(a, axis=1)\n",
    "print(b)\n",
    "b.shape"
   ]
  },
  {
   "cell_type": "markdown",
   "id": "9c4265f9",
   "metadata": {},
   "source": [
    "## _Latihan_"
   ]
  },
  {
   "cell_type": "code",
   "execution_count": null,
   "id": "785db99b",
   "metadata": {},
   "outputs": [],
   "source": [
    "import numpy as np\n",
    "x = np.arange (2, 11).reshape(3, 3)\n",
    "print(x)"
   ]
  },
  {
   "cell_type": "code",
   "execution_count": null,
   "id": "f82797ec",
   "metadata": {},
   "outputs": [],
   "source": [
    "x.ndim"
   ]
  },
  {
   "cell_type": "code",
   "execution_count": null,
   "id": "a42d002c",
   "metadata": {},
   "outputs": [],
   "source": [
    "arr = np.array(70)\n",
    "print(arr)"
   ]
  },
  {
   "cell_type": "code",
   "execution_count": null,
   "id": "1cfc3d0a",
   "metadata": {},
   "outputs": [],
   "source": [
    "arr.ndim"
   ]
  },
  {
   "cell_type": "code",
   "execution_count": null,
   "id": "042b9441",
   "metadata": {},
   "outputs": [],
   "source": [
    "arr = np.array ([[[1, 2, 3], \n",
    "                  [4, 5, 6], \n",
    "                  [4, 5, 6]]])\n",
    "print(arr)\n",
    "arr.shape\n",
    "arr.ndim"
   ]
  },
  {
   "cell_type": "code",
   "execution_count": null,
   "id": "77c81872",
   "metadata": {},
   "outputs": [],
   "source": [
    "arr.shape"
   ]
  },
  {
   "cell_type": "code",
   "execution_count": null,
   "id": "8c98fd5b",
   "metadata": {},
   "outputs": [],
   "source": [
    "array_tes = np.array([[3, 7, 10, 2], [3, 7, 10, 2]], ndmin=4)\n",
    "print(array_tes)"
   ]
  },
  {
   "cell_type": "code",
   "execution_count": null,
   "id": "e3163f3a",
   "metadata": {},
   "outputs": [],
   "source": [
    "array_tes.ndim"
   ]
  },
  {
   "cell_type": "code",
   "execution_count": null,
   "id": "e235f11a",
   "metadata": {},
   "outputs": [],
   "source": [
    "array_tes = np.array ([3, 10, 3, 2])\n",
    "\n",
    "print(array_tes[3] + array_tes[2])"
   ]
  },
  {
   "cell_type": "code",
   "execution_count": 23,
   "id": "ed2e5c8d",
   "metadata": {},
   "outputs": [
    {
     "name": "stdout",
     "output_type": "stream",
     "text": [
      "2\n"
     ]
    }
   ],
   "source": [
    "\n",
    "arr = np.array([[6, 7, 8, 9, 10],[1, 2, 3, 4, 5]])\n",
    "print(arr[1, 1])"
   ]
  },
  {
   "cell_type": "code",
   "execution_count": 2,
   "id": "121d862d",
   "metadata": {},
   "outputs": [
    {
     "name": "stdout",
     "output_type": "stream",
     "text": [
      "[ 6 12]\n",
      "(2, 2, 3)\n"
     ]
    }
   ],
   "source": [
    "import numpy as np\n",
    "jiwa = np.array ([[[1, 2, 3], [4, 5, 6]],\n",
    "                  [[7, 8, 9], [10, 11, 12]]])\n",
    "\n",
    "print(jiwa[:, 1, 2])\n",
    "print(jiwa.shape)"
   ]
  },
  {
   "cell_type": "code",
   "execution_count": 16,
   "id": "f108fd9d",
   "metadata": {},
   "outputs": [
    {
     "name": "stdout",
     "output_type": "stream",
     "text": [
      "[[2 5]]\n"
     ]
    }
   ],
   "source": [
    "print(jiwa[:1, :2, 1])"
   ]
  },
  {
   "cell_type": "code",
   "execution_count": 26,
   "id": "d95a9e0a",
   "metadata": {},
   "outputs": [
    {
     "name": "stdout",
     "output_type": "stream",
     "text": [
      "[ 7  6 10]\n",
      "[2 4 7]\n"
     ]
    }
   ],
   "source": [
    "arr = np.array([2, 2, 7, 4, 5, 6, 7, 8, 10])\n",
    "print(arr[2:10:3]) \n",
    "print(arr[::3])"
   ]
  },
  {
   "cell_type": "code",
   "execution_count": 34,
   "id": "77ae6ba6",
   "metadata": {},
   "outputs": [
    {
     "name": "stdout",
     "output_type": "stream",
     "text": [
      "[[[ 1  2  3  4  5  6]\n",
      "  [ 7  8  9 10 11 12]]] \n",
      "\n",
      "(1, 2, 6)\n"
     ]
    }
   ],
   "source": [
    "arr = np.array ([1, 2, 3, 4, 5, 6, 7, 8, 9 ,10, 11, 12])\n",
    "newarr= arr.reshape(1, 2, -1)\n",
    "print(newarr, \"\\n\")\n",
    "print(newarr.shape)"
   ]
  },
  {
   "cell_type": "code",
   "execution_count": null,
   "id": "e9900708",
   "metadata": {},
   "outputs": [],
   "source": []
  }
 ],
 "metadata": {
  "kernelspec": {
   "display_name": "Python 3 (ipykernel)",
   "language": "python",
   "name": "python3"
  },
  "language_info": {
   "codemirror_mode": {
    "name": "ipython",
    "version": 3
   },
   "file_extension": ".py",
   "mimetype": "text/x-python",
   "name": "python",
   "nbconvert_exporter": "python",
   "pygments_lexer": "ipython3",
   "version": "3.9.7"
  }
 },
 "nbformat": 4,
 "nbformat_minor": 5
}
