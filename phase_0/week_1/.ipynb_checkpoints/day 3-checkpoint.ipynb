{
 "cells": [
  {
   "cell_type": "code",
   "execution_count": 5,
   "id": "b5fa9b80",
   "metadata": {},
   "outputs": [
    {
     "name": "stdout",
     "output_type": "stream",
     "text": [
      "Values inside the function  :  [1, 2, 3, 4]\n",
      "Values outside the function :  [10, 20, 30]\n"
     ]
    }
   ],
   "source": [
    "# Function definition is here\n",
    "def changeme( mylist ):\n",
    "   '''This changes a passed list into this function'''\n",
    "   mylist = [1, 2, 3, 4] # This would assign new reference in mylist\n",
    "   print(\"Values inside the function  : \", mylist)\n",
    "\n",
    "# Now you can call changeme function\n",
    "mylist = [10, 20, 30]\n",
    "changeme( mylist )\n",
    "print(\"Values outside the function : \", mylist)"
   ]
  },
  {
   "cell_type": "code",
   "execution_count": 32,
   "id": "16cef2c0",
   "metadata": {},
   "outputs": [
    {
     "ename": "SyntaxError",
     "evalue": "invalid syntax (Temp/ipykernel_15268/392579638.py, line 1)",
     "output_type": "error",
     "traceback": [
      "\u001b[1;36m  File \u001b[1;32m\"C:\\Users\\ASUS\\AppData\\Local\\Temp/ipykernel_15268/392579638.py\"\u001b[1;36m, line \u001b[1;32m1\u001b[0m\n\u001b[1;33m    def fungsi_saya(p*1):\u001b[0m\n\u001b[1;37m                     ^\u001b[0m\n\u001b[1;31mSyntaxError\u001b[0m\u001b[1;31m:\u001b[0m invalid syntax\n"
     ]
    }
   ],
   "source": [
    "def fungsi_saya(p, 1):\n",
    "    '''This changes a passed list into this function'''\n",
    "    print(p*1)\n",
    "\n",
    "fungsi_saya(5, 2)"
   ]
  },
  {
   "cell_type": "code",
   "execution_count": 13,
   "id": "77ea36ae",
   "metadata": {},
   "outputs": [
    {
     "name": "stdout",
     "output_type": "stream",
     "text": [
      "luas segitiga= 12.00\n"
     ]
    }
   ],
   "source": [
    "def luas_segitiga(alas, tinggi):\n",
    "    luas= (alas* tinggi)/2\n",
    "    print(\"luas segitiga= %.2f\" %luas)\n",
    "\n",
    "luas_segitiga(4,6)"
   ]
  },
  {
   "cell_type": "markdown",
   "id": "94ff8159",
   "metadata": {},
   "source": [
    "##### __key word__"
   ]
  },
  {
   "cell_type": "code",
   "execution_count": 21,
   "id": "cf6d9c09",
   "metadata": {},
   "outputs": [
    {
     "name": "stdout",
     "output_type": "stream",
     "text": [
      "teman saya namanya:kondo\n"
     ]
    }
   ],
   "source": [
    "def nama_orang(*nama):\n",
    "    print('teman saya namanya:' + nama[3])\n",
    "    \n",
    "nama_orang(\"irfan\", \"tono\", \"joko\",\"kondo\")"
   ]
  },
  {
   "cell_type": "code",
   "execution_count": 29,
   "id": "938ff2dd",
   "metadata": {},
   "outputs": [
    {
     "name": "stdout",
     "output_type": "stream",
     "text": [
      "Name :  hacktiv8\n",
      "Age  :  50\n",
      "\n",
      "Name :  Tanpa Nama\n",
      "Age  :  Malu sama umur?\n",
      "\n"
     ]
    }
   ],
   "source": [
    "def printinfo( name = 'Tanpa Nama', age = 'Malu sama umur?' ):\n",
    "   '''This prints a passed info into this function'''\n",
    "   print(\"Name : \", name)\n",
    "   print(\"Age  : \", age)\n",
    "   print(\"\")\n",
    "\n",
    "# Now you can call printinfo function\n",
    "printinfo( age=50, name=\"hacktiv8\" )\n",
    "printinfo( )"
   ]
  },
  {
   "cell_type": "markdown",
   "id": "374d2780",
   "metadata": {},
   "source": [
    "###### asterik"
   ]
  },
  {
   "cell_type": "code",
   "execution_count": 31,
   "id": "cb719a51",
   "metadata": {},
   "outputs": [
    {
     "name": "stdout",
     "output_type": "stream",
     "text": [
      "arg1     :  10\n",
      "vartuple :  ()\n",
      "\n",
      "arg1     :  70\n",
      "vartuple :  (60, 50, 'a')\n",
      "\n",
      "isi vartuple :  60\n",
      "isi vartuple :  50\n",
      "isi vartuple :  a\n"
     ]
    }
   ],
   "source": [
    "def printinfo( arg1, *vartuple ): # aterik tanda (*)\n",
    "# def printinfo(arg1, arg2, arg3, arg4):\n",
    "   '''This prints a variable passed arguments'''\n",
    "   print('arg1     : ', arg1)\n",
    "   print('vartuple : ', vartuple)\n",
    "   print('')\n",
    "   \n",
    "   for var in vartuple:\n",
    "      print('isi vartuple : ', var) \n",
    "\n",
    "# Now you can call printinfo function\n",
    "printinfo( 10 )\n",
    "printinfo( 70, 60, 50, \"a\" )"
   ]
  },
  {
   "cell_type": "code",
   "execution_count": 33,
   "id": "d95fd94b",
   "metadata": {},
   "outputs": [
    {
     "name": "stdout",
     "output_type": "stream",
     "text": [
      "Total Data :  3\n",
      "Person :  jimmy\n",
      "Car    :  chevrolet\n",
      "\n",
      "Person :  frank\n",
      "Car    :  ford\n",
      "\n",
      "Person :  tina\n",
      "Car    :  honda\n",
      "\n",
      "Total Data :  3\n"
     ]
    }
   ],
   "source": [
    "def person_car(total_data, **kwargs):\n",
    "  '''Create a function to print who owns what car'''\n",
    "  print('Total Data : ', total_data)\n",
    "  for key, value in kwargs.items():\n",
    "    print('Person : ', key)\n",
    "    print('Car    : ', value)\n",
    "    print('')\n",
    "\n",
    "person_car(3, jimmy='chevrolet', frank='ford', tina='honda')\n",
    "person_car(3)"
   ]
  },
  {
   "cell_type": "code",
   "execution_count": 41,
   "id": "aa078db8",
   "metadata": {},
   "outputs": [
    {
     "name": "stdout",
     "output_type": "stream",
     "text": [
      "Value of total :  30\n",
      "Value of total :  40\n"
     ]
    }
   ],
   "source": [
    "# Function definition is here\n",
    "sum = lambda arg1, arg2: arg1 + arg2\n",
    "\n",
    "# That lambda function will be equal to :\n",
    "# def sum(arg1, arg2):\n",
    "#     return arg1+arg2\n",
    "\n",
    "# Now you can call sum as a function\n",
    "print(\"Value of total : \", sum( 10, 20 ))\n",
    "print(\"Value of total : \", sum( 20, 20 ))"
   ]
  },
  {
   "cell_type": "code",
   "execution_count": 43,
   "id": "7ffafe4b",
   "metadata": {},
   "outputs": [
    {
     "data": {
      "text/plain": [
       "13"
      ]
     },
     "execution_count": 43,
     "metadata": {},
     "output_type": "execute_result"
    }
   ],
   "source": [
    "def hitung(x,y):\n",
    "    return x**2+y**2\n",
    "    \n",
    "hitung(2,3)"
   ]
  },
  {
   "cell_type": "code",
   "execution_count": 45,
   "id": "53f02dab",
   "metadata": {},
   "outputs": [
    {
     "data": {
      "text/plain": [
       "13"
      ]
     },
     "execution_count": 45,
     "metadata": {},
     "output_type": "execute_result"
    }
   ],
   "source": [
    "hitung = lambda x,y : x**2+y**2\n",
    "hitung(2,3)"
   ]
  },
  {
   "cell_type": "code",
   "execution_count": 46,
   "id": "1e7ba5bd",
   "metadata": {},
   "outputs": [
    {
     "name": "stdout",
     "output_type": "stream",
     "text": [
      "Result function :  30\n"
     ]
    }
   ],
   "source": [
    "def sum(arg1, arg2):\n",
    "    # Add both the parameters and return them.\"\n",
    "    total = arg1 + arg2\n",
    "    return total\n",
    "\n",
    "# Now you can call sum function\n",
    "total = sum(10, 20)\n",
    "print(\"Result function : \", total)"
   ]
  },
  {
   "cell_type": "code",
   "execution_count": 48,
   "id": "ab44a18d",
   "metadata": {},
   "outputs": [
    {
     "name": "stdout",
     "output_type": "stream",
     "text": [
      "Saya adalah : broker\n"
     ]
    }
   ],
   "source": [
    "nama = 'tomo'\n",
    "\n",
    "def myfunc():\n",
    "    nama = \"broker\"\n",
    "    print('Saya adalah :', nama)\n",
    "    \n",
    "myfunc()"
   ]
  },
  {
   "cell_type": "code",
   "execution_count": 50,
   "id": "107b10cb",
   "metadata": {},
   "outputs": [
    {
     "name": "stdout",
     "output_type": "stream",
     "text": [
      "Saya adalah : tomo\n"
     ]
    }
   ],
   "source": [
    "nama = 'tomo'\n",
    "\n",
    "def myfunc():\n",
    "    nama = \"broker\"\n",
    "    print('Saya adalah :', nama)\n",
    "    \n",
    "print('Saya adalah :', nama)"
   ]
  },
  {
   "cell_type": "code",
   "execution_count": 56,
   "id": "79784840",
   "metadata": {},
   "outputs": [
    {
     "name": "stdout",
     "output_type": "stream",
     "text": [
      "zack\n"
     ]
    }
   ],
   "source": [
    "import Lagi\n",
    "print(Lagi.name)"
   ]
  },
  {
   "cell_type": "code",
   "execution_count": 60,
   "id": "954c32ec",
   "metadata": {},
   "outputs": [
    {
     "data": {
      "text/plain": [
       "['laptop', 'smartphone', 'tablet']"
      ]
     },
     "execution_count": 60,
     "metadata": {},
     "output_type": "execute_result"
    }
   ],
   "source": [
    "Lagi.devices"
   ]
  },
  {
   "cell_type": "code",
   "execution_count": 61,
   "id": "6c1a95bf",
   "metadata": {},
   "outputs": [
    {
     "data": {
      "text/plain": [
       "'zack'"
      ]
     },
     "execution_count": 61,
     "metadata": {},
     "output_type": "execute_result"
    }
   ],
   "source": [
    "from Lagi import name #tanpa perlu import devinisi \"name\" dari \"Lagi\"\n",
    "name"
   ]
  },
  {
   "cell_type": "code",
   "execution_count": 69,
   "id": "48079d0d",
   "metadata": {},
   "outputs": [
    {
     "data": {
      "text/plain": [
       "['laptop', 'smartphone', 'tablet']"
      ]
     },
     "execution_count": 69,
     "metadata": {},
     "output_type": "execute_result"
    }
   ],
   "source": [
    "from Lagi import devices \n",
    "devices"
   ]
  },
  {
   "cell_type": "code",
   "execution_count": 70,
   "id": "ef8d6fda",
   "metadata": {},
   "outputs": [
    {
     "data": {
      "text/plain": [
       "'zack'"
      ]
     },
     "execution_count": 70,
     "metadata": {},
     "output_type": "execute_result"
    }
   ],
   "source": [
    "name"
   ]
  },
  {
   "cell_type": "code",
   "execution_count": 68,
   "id": "08b4622b",
   "metadata": {},
   "outputs": [
    {
     "data": {
      "text/plain": [
       "['laptop', 'smartphone', 'tablet']"
      ]
     },
     "execution_count": 68,
     "metadata": {},
     "output_type": "execute_result"
    }
   ],
   "source": [
    "devices"
   ]
  },
  {
   "cell_type": "code",
   "execution_count": 72,
   "id": "666e3341",
   "metadata": {},
   "outputs": [
    {
     "name": "stdout",
     "output_type": "stream",
     "text": [
      "zack\n"
     ]
    }
   ],
   "source": [
    "import Lagi\n",
    "print(Lagi.name)"
   ]
  },
  {
   "cell_type": "code",
   "execution_count": 75,
   "id": "6ba80da3",
   "metadata": {},
   "outputs": [
    {
     "name": "stdout",
     "output_type": "stream",
     "text": [
      "arg = \n"
     ]
    }
   ],
   "source": [
    "import Lagi\n",
    "display('')"
   ]
  },
  {
   "cell_type": "code",
   "execution_count": 76,
   "id": "6a561545",
   "metadata": {},
   "outputs": [
    {
     "data": {
      "text/plain": [
       "'zack'"
      ]
     },
     "execution_count": 76,
     "metadata": {},
     "output_type": "execute_result"
    }
   ],
   "source": [
    "from Lagi import name as n\n",
    "n"
   ]
  },
  {
   "cell_type": "code",
   "execution_count": 77,
   "id": "8656ea32",
   "metadata": {},
   "outputs": [
    {
     "data": {
      "text/plain": [
       "'zack'"
      ]
     },
     "execution_count": 77,
     "metadata": {},
     "output_type": "execute_result"
    }
   ],
   "source": [
    "n"
   ]
  },
  {
   "cell_type": "code",
   "execution_count": 78,
   "id": "2659b17b",
   "metadata": {},
   "outputs": [
    {
     "name": "stdout",
     "output_type": "stream",
     "text": [
      "Requirement already satisfied: pandas in c:\\users\\asus\\anaconda3\\lib\\site-packages (1.3.4)\n",
      "Requirement already satisfied: numpy>=1.17.3 in c:\\users\\asus\\anaconda3\\lib\\site-packages (from pandas) (1.20.3)\n",
      "Requirement already satisfied: python-dateutil>=2.7.3 in c:\\users\\asus\\anaconda3\\lib\\site-packages (from pandas) (2.8.2)\n",
      "Requirement already satisfied: pytz>=2017.3 in c:\\users\\asus\\anaconda3\\lib\\site-packages (from pandas) (2021.3)\n",
      "Requirement already satisfied: six>=1.5 in c:\\users\\asus\\anaconda3\\lib\\site-packages (from python-dateutil>=2.7.3->pandas) (1.16.0)\n"
     ]
    }
   ],
   "source": [
    "!pip install pandas"
   ]
  },
  {
   "cell_type": "code",
   "execution_count": 79,
   "id": "eb811ffd",
   "metadata": {},
   "outputs": [],
   "source": [
    "import numpy as np"
   ]
  },
  {
   "cell_type": "code",
   "execution_count": 81,
   "id": "eceed5f5",
   "metadata": {},
   "outputs": [
    {
     "data": {
      "text/plain": [
       "array([1, 2, 3])"
      ]
     },
     "execution_count": 81,
     "metadata": {},
     "output_type": "execute_result"
    }
   ],
   "source": [
    "a = np.array([1, 2, 3])\n",
    "a"
   ]
  },
  {
   "cell_type": "code",
   "execution_count": 84,
   "id": "b0db5133",
   "metadata": {},
   "outputs": [
    {
     "data": {
      "text/plain": [
       "array([0., 0., 0.])"
      ]
     },
     "execution_count": 84,
     "metadata": {},
     "output_type": "execute_result"
    }
   ],
   "source": [
    "np.zeros(3)"
   ]
  },
  {
   "cell_type": "code",
   "execution_count": 85,
   "id": "71268212",
   "metadata": {},
   "outputs": [
    {
     "data": {
      "text/plain": [
       "array([1., 1.])"
      ]
     },
     "execution_count": 85,
     "metadata": {},
     "output_type": "execute_result"
    }
   ],
   "source": [
    "np.ones(2)"
   ]
  },
  {
   "cell_type": "code",
   "execution_count": 86,
   "id": "1fbf3e80",
   "metadata": {},
   "outputs": [
    {
     "data": {
      "text/plain": [
       "array([1.])"
      ]
     },
     "execution_count": 86,
     "metadata": {},
     "output_type": "execute_result"
    }
   ],
   "source": [
    "np.empty(1)"
   ]
  },
  {
   "cell_type": "code",
   "execution_count": 95,
   "id": "4925c458",
   "metadata": {},
   "outputs": [
    {
     "name": "stdout",
     "output_type": "stream",
     "text": [
      "[0 1 2 3]\n",
      "[ 1 21]\n"
     ]
    }
   ],
   "source": [
    "print(np.arange(4))\n",
    "print(np.arange(1, 30, 20))"
   ]
  },
  {
   "cell_type": "code",
   "execution_count": 92,
   "id": "c80207f6",
   "metadata": {},
   "outputs": [
    {
     "name": "stdout",
     "output_type": "stream",
     "text": [
      "[0 1 2 3]\n",
      "[0 2 4 6 8]\n"
     ]
    }
   ],
   "source": [
    "print(np.arange(4))\n",
    "print(np.arange(0,10,2)) # (start, stop, step)"
   ]
  },
  {
   "cell_type": "code",
   "execution_count": 103,
   "id": "3f4c5df6",
   "metadata": {},
   "outputs": [
    {
     "ename": "TypeError",
     "evalue": "unsupported operand type(s) for ** or pow(): 'list' and 'int'",
     "output_type": "error",
     "traceback": [
      "\u001b[1;31m---------------------------------------------------------------------------\u001b[0m",
      "\u001b[1;31mTypeError\u001b[0m                                 Traceback (most recent call last)",
      "\u001b[1;32m~\\AppData\\Local\\Temp/ipykernel_15268/4294658244.py\u001b[0m in \u001b[0;36m<module>\u001b[1;34m\u001b[0m\n\u001b[0;32m      1\u001b[0m \u001b[0mtinggi\u001b[0m \u001b[1;33m=\u001b[0m \u001b[1;33m[\u001b[0m\u001b[1;36m1.73\u001b[0m\u001b[1;33m,\u001b[0m \u001b[1;36m1.68\u001b[0m\u001b[1;33m,\u001b[0m \u001b[1;36m1.71\u001b[0m\u001b[1;33m,\u001b[0m \u001b[1;36m1.86\u001b[0m\u001b[1;33m,\u001b[0m \u001b[1;36m1.87\u001b[0m\u001b[1;33m]\u001b[0m\u001b[1;33m\u001b[0m\u001b[1;33m\u001b[0m\u001b[0m\n\u001b[0;32m      2\u001b[0m \u001b[0mberat\u001b[0m \u001b[1;33m=\u001b[0m \u001b[1;33m[\u001b[0m\u001b[1;36m65.4\u001b[0m\u001b[1;33m,\u001b[0m \u001b[1;36m59.2\u001b[0m\u001b[1;33m,\u001b[0m \u001b[1;36m63.2\u001b[0m\u001b[1;33m,\u001b[0m \u001b[1;36m88.4\u001b[0m\u001b[1;33m,\u001b[0m \u001b[1;36m68.7\u001b[0m\u001b[1;33m]\u001b[0m\u001b[1;33m\u001b[0m\u001b[1;33m\u001b[0m\u001b[0m\n\u001b[1;32m----> 3\u001b[1;33m \u001b[0mberat\u001b[0m\u001b[1;33m/\u001b[0m\u001b[0mtinggi\u001b[0m\u001b[1;33m**\u001b[0m\u001b[1;36m2\u001b[0m \u001b[1;31m#Tanpa Array\u001b[0m\u001b[1;33m\u001b[0m\u001b[1;33m\u001b[0m\u001b[0m\n\u001b[0m",
      "\u001b[1;31mTypeError\u001b[0m: unsupported operand type(s) for ** or pow(): 'list' and 'int'"
     ]
    }
   ],
   "source": [
    "tinggi = [1.73, 1.68, 1.71, 1.86, 1.87]\n",
    "berat = [65.4, 59.2, 63.2, 88.4, 68.7]\n",
    "berat/tinggi**2 #Tanpa Array"
   ]
  },
  {
   "cell_type": "code",
   "execution_count": 97,
   "id": "87ffdbce",
   "metadata": {},
   "outputs": [
    {
     "data": {
      "text/plain": [
       "array([21.85171573, 20.97505669, 21.61348791, 25.55208695, 19.64597215])"
      ]
     },
     "execution_count": 97,
     "metadata": {},
     "output_type": "execute_result"
    }
   ],
   "source": [
    "tinggi = [1.73, 1.68, 1.71, 1.86, 1.87]\n",
    "berat = [65.4, 59.2, 63.2, 88.4, 68.7]\n",
    "np_tinggi = np.array (tinggi)\n",
    "np_berat = np.array (berat)\n",
    "np_berat/np_tinggi**2"
   ]
  },
  {
   "cell_type": "code",
   "execution_count": 100,
   "id": "4bb1e9e2",
   "metadata": {},
   "outputs": [
    {
     "data": {
      "text/plain": [
       "array([1, 2, 3, 4, 5, 6, 7, 8])"
      ]
     },
     "execution_count": 100,
     "metadata": {},
     "output_type": "execute_result"
    }
   ],
   "source": [
    "arr= np.array([1, 2, 3, 4, 5])\n",
    "np.append(arr, [6, 7, 8])"
   ]
  },
  {
   "cell_type": "code",
   "execution_count": 102,
   "id": "ac335015",
   "metadata": {},
   "outputs": [
    {
     "data": {
      "text/plain": [
       "array([ 4, 10, 20, 35])"
      ]
     },
     "execution_count": 102,
     "metadata": {},
     "output_type": "execute_result"
    }
   ],
   "source": [
    "panjang = np.array([1, 2, 4, 5])\n",
    "lebar = np.array([4, 5, 5, 7])\n",
    "\n",
    "luas= panjang*lebar\n",
    "luas"
   ]
  },
  {
   "cell_type": "code",
   "execution_count": 108,
   "id": "8b340ac1",
   "metadata": {},
   "outputs": [
    {
     "data": {
      "text/plain": [
       "array([1, 2, 3, 5])"
      ]
     },
     "execution_count": 108,
     "metadata": {},
     "output_type": "execute_result"
    }
   ],
   "source": [
    "np.delete(arr, 3)"
   ]
  },
  {
   "cell_type": "code",
   "execution_count": 117,
   "id": "52d7a765",
   "metadata": {},
   "outputs": [
    {
     "name": "stdout",
     "output_type": "stream",
     "text": [
      "range(1, 20)\n"
     ]
    }
   ],
   "source": [
    "x in range(1, 20,1)\n",
    "print(x)"
   ]
  },
  {
   "cell_type": "code",
   "execution_count": null,
   "id": "9a4695e4",
   "metadata": {},
   "outputs": [],
   "source": []
  }
 ],
 "metadata": {
  "kernelspec": {
   "display_name": "Python 3 (ipykernel)",
   "language": "python",
   "name": "python3"
  },
  "language_info": {
   "codemirror_mode": {
    "name": "ipython",
    "version": 3
   },
   "file_extension": ".py",
   "mimetype": "text/x-python",
   "name": "python",
   "nbconvert_exporter": "python",
   "pygments_lexer": "ipython3",
   "version": "3.9.7"
  }
 },
 "nbformat": 4,
 "nbformat_minor": 5
}
