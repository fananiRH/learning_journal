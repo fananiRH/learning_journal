{
 "cells": [
  {
   "cell_type": "markdown",
   "id": "74d044cf",
   "metadata": {},
   "source": [
    "# __Non-Graded Challenge 2__"
   ]
  },
  {
   "cell_type": "markdown",
   "id": "7b1d0a2c",
   "metadata": {},
   "source": [
    "---\n",
    "\n",
    "1. Buatlah sebuah function yang dapat mengkonversi suhu dari kelvin ke celcius, dan celcius ke kelvin.\n",
    "<br>(Berikan dokumentasi pada setiap baris kode yang kalian tulis.)\n",
    "\n",
    "---"
   ]
  },
  {
   "cell_type": "code",
   "execution_count": 1,
   "id": "863c7d0b",
   "metadata": {},
   "outputs": [
    {
     "name": "stdout",
     "output_type": "stream",
     "text": [
      "Konversi suhu kelvin ke celcius dan celsius ke kelvin\n",
      "Satuan Kelvin  = k\n",
      "Satuan celcius = c\n",
      "Masukan suhu : 200\n",
      "Masukan satuan : c\n",
      "kelvin =  473.15 K\n"
     ]
    }
   ],
   "source": [
    "print(\"Konversi suhu kelvin ke celcius dan celsius ke kelvin\") # cetak judul\n",
    "print(\"Satuan Kelvin  = k\")                                    # keterangan untuk satuan jika data suhu kelvin\n",
    "print(\"Satuan celcius = c\")                                    # keterangan untuk stauan jika data suhu celcius\n",
    "\n",
    "Suhu = float(input('Masukan suhu : '))                    # Perintah memasukan/input/mendefinisikan data suhu dengan tipe float\n",
    "Satuan = input('Masukan satuan : ')                       # perintah memasukan satuan c untuk celcius dan k untuk kelvin \n",
    "\n",
    "if (Satuan == 'k'):                                       #perintah kondisi dimana satuan sama dengan \"k\"\n",
    "    print('celcius = ', (Suhu - 273.15), 'C°')            #cetak hasil fungsi jika kondisi diatas terpenuhi \n",
    "if (Satuan == 'c'):                                       #perintah kondisi dimana satuan sama dengan \"c\"\n",
    "    print('kelvin = ', (Suhu + 273.15), 'K')              #cetak hasil fungsi jika kondisi diatas terpenuhi "
   ]
  },
  {
   "cell_type": "markdown",
   "id": "358bf23b",
   "metadata": {},
   "source": [
    "---\n",
    "\n",
    "2. Buatlah sebuah function yang dapat mengkonversi suhu ke fahrenheit. Tambahkan parameter untuk memastikan bahwa argumen yang dimasukan adalah celcius atau kelvin. Panggil function yang pertama jika diperlukan.\n",
    "<br> (Berikan dokumentasi pada setiap baris kode yang kalian tulis.)\n",
    "\n",
    "---"
   ]
  },
  {
   "cell_type": "code",
   "execution_count": 2,
   "id": "0683e24f",
   "metadata": {},
   "outputs": [
    {
     "name": "stdout",
     "output_type": "stream",
     "text": [
      "Konversi suhu kelvin dan celcius ke fahrenheit\n",
      "Satuan Kelvin  = k\n",
      "Satuan celcius = c\n",
      "Masukan suhu : 600\n",
      "Masukan satuan : k\n",
      "fahrenheit =  620.33 F°\n"
     ]
    }
   ],
   "source": [
    "print(\"Konversi suhu kelvin dan celcius ke fahrenheit\")        # cetak judul\n",
    "print(\"Satuan Kelvin  = k\")                                    # keterangan untuk satuan jika data suhu kelvin\n",
    "print(\"Satuan celcius = c\")                                    # keterangan untuk stauan jika data suhu celcius\n",
    "\n",
    "Suhu = float(input('Masukan suhu : '))                    # Perintah memasukan/input/mendefinisikan data suhu dengan tipe float\n",
    "Satuan = input('Masukan satuan : ')                       # perintah memasukan satuan c untuk celcius dan k untuk kelvin \n",
    "\n",
    "if (Satuan == 'k'):                                                #perintah kondisi dimana satuan sama dengan \"k\"\n",
    "    print('fahrenheit = ', ((Suhu - 273.15) * 1.8 + 32.0 ), 'F°')  #cetak hasil fungsi jika kondisi diatas terpenuhi \n",
    "if (Satuan == 'c'):                                                #perintah kondisi dimana satuan sama dengan \"c\"\n",
    "    print('fahrenheit = ', (Suhu * 1.8 + 32.0), 'F°')              #cetak hasil fungsi jika kondisi diatas terpenuhi "
   ]
  },
  {
   "cell_type": "markdown",
   "id": "d30e2855",
   "metadata": {},
   "source": [
    "---\n",
    "\n",
    "3. Buatlah sebuah function yang dapat mengkonversi suhu dari fahrenheit. Berikan argumen untuk memastikan bahwa outputnya dalah celcius atau kelvin.\n",
    "<br>(Berikan dokumentasi pada setiap baris kode yang kalian tulis.)\n",
    "\n",
    "---"
   ]
  },
  {
   "cell_type": "code",
   "execution_count": 35,
   "id": "642f125d",
   "metadata": {},
   "outputs": [
    {
     "name": "stdout",
     "output_type": "stream",
     "text": [
      "Konversi suhu dari fahrenheit ke kelvin atau celcius\n",
      "Satuan Kelvin  = k\n",
      "Satuan celcius = c\n",
      "Masukan suhu fahrenheit : 32\n",
      "Ingin dikonversi ke : c\n",
      "celcius =  0.0 C°\n"
     ]
    }
   ],
   "source": [
    "print(\"Konversi suhu dari fahrenheit ke kelvin atau celcius\") # cetak judul\n",
    "print(\"Satuan Kelvin  = k\")                                   # keterangan untuk satuan jika data suhu kelvin\n",
    "print(\"Satuan celcius = c\")                                   # keterangan untuk stauan jika data suhu celcius\n",
    "\n",
    "Suhu = float(input('Masukan suhu fahrenheit : '))         # Perintah memasukan/input/mendefinisikan data suhu dengan tipe float\n",
    "Satuan = input('Ingin dikonversi ke : ')                  # untuk memastikan jenis outputnya celcius atau kelvin\n",
    "\n",
    "if (Satuan == 'k'):                                         # kondisi jika memilih \"k\"\n",
    "    print('Kelvin = ', ((Suhu - 32.0) * 5/9 + 273.15), 'K') # cetak fungsi jika memilih kondisi \"k\"\n",
    "if (Satuan == 'c'):                                         # kondisi jika memilih \"c\"\n",
    "    print('celcius = ', ((Suhu - 32.0) * 5/9 ), 'C°')       # cetak fungsi jika memilih kondisi \"c\""
   ]
  },
  {
   "cell_type": "code",
   "execution_count": null,
   "id": "7ea24fb1",
   "metadata": {},
   "outputs": [],
   "source": []
  }
 ],
 "metadata": {
  "kernelspec": {
   "display_name": "Python 3 (ipykernel)",
   "language": "python",
   "name": "python3"
  },
  "language_info": {
   "codemirror_mode": {
    "name": "ipython",
    "version": 3
   },
   "file_extension": ".py",
   "mimetype": "text/x-python",
   "name": "python",
   "nbconvert_exporter": "python",
   "pygments_lexer": "ipython3",
   "version": "3.9.7"
  }
 },
 "nbformat": 4,
 "nbformat_minor": 5
}
