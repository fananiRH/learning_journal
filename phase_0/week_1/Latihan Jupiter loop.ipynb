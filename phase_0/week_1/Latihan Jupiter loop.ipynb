{
 "cells": [
  {
   "cell_type": "code",
   "execution_count": null,
   "id": "7fcc960f",
   "metadata": {},
   "outputs": [],
   "source": [
    "angka = 5"
   ]
  },
  {
   "cell_type": "code",
   "execution_count": null,
   "id": "d08f9abf",
   "metadata": {},
   "outputs": [],
   "source": [
    "angka"
   ]
  },
  {
   "cell_type": "code",
   "execution_count": null,
   "id": "f519271d",
   "metadata": {},
   "outputs": [],
   "source": [
    "5 == 10"
   ]
  },
  {
   "cell_type": "code",
   "execution_count": null,
   "id": "6c772920",
   "metadata": {},
   "outputs": [],
   "source": [
    "angka <= 10"
   ]
  },
  {
   "cell_type": "code",
   "execution_count": null,
   "id": "231f3bdb",
   "metadata": {},
   "outputs": [],
   "source": [
    "angka != 7"
   ]
  },
  {
   "cell_type": "code",
   "execution_count": null,
   "id": "8e7f0639",
   "metadata": {},
   "outputs": [],
   "source": [
    "print(f\"{angka} lebih besar kecil dari 9\") \n",
    "#f untuk mengeluarkan nilai angka"
   ]
  },
  {
   "cell_type": "code",
   "execution_count": null,
   "id": "5caf3dcb",
   "metadata": {},
   "outputs": [],
   "source": [
    "angka2 = 8\n",
    "if angka2 > 10: #statement for fales not appear\n",
    "    print(f\"{angka} lebih besar dari 10\")\n",
    "else:\n",
    "    print(f\"{angka} lebih kecil dari 10\")"
   ]
  },
  {
   "cell_type": "markdown",
   "id": "c84b6392",
   "metadata": {},
   "source": [
    "### Looping "
   ]
  },
  {
   "cell_type": "code",
   "execution_count": null,
   "id": "93abb2e0",
   "metadata": {},
   "outputs": [],
   "source": [
    "print(\"hai cantik, mau kenalan ga?\") #contoh looping yg tidak baik\n",
    "print(\"hai cantik, mau kenalan ga?\")\n",
    "print(\"hai cantik, mau kenalan ga?\")\n",
    "print(\"hai cantik, mau kenalan ga?\")\n",
    "print(\"hai cantik, mau kenalan ga?\")"
   ]
  },
  {
   "cell_type": "markdown",
   "id": "92cfc6a6",
   "metadata": {},
   "source": [
    "##### While Loop"
   ]
  },
  {
   "cell_type": "code",
   "execution_count": null,
   "id": "9cf5abd9",
   "metadata": {
    "scrolled": true
   },
   "outputs": [],
   "source": [
    "kali = 0 #mengisi variable kali agar tidak terjadi infinite loop cetak true\n",
    "while kali < 5:\n",
    "    print(\"hai cantik, mau kenalan ga?\")\n",
    "    kali = kali + 1"
   ]
  },
  {
   "cell_type": "code",
   "execution_count": 1,
   "id": "69cc3dd6",
   "metadata": {},
   "outputs": [
    {
     "name": "stdout",
     "output_type": "stream",
     "text": [
      "kali : 0\n",
      "hai cantik, mau kenalan ga?\n",
      "kali : 1\n",
      "hai cantik, mau kenalan ga?\n",
      "kali : 2\n",
      "hai cantik, mau kenalan ga?\n",
      "kali : 3\n",
      "hai cantik, mau kenalan ga?\n",
      "kali : 4\n",
      "hai cantik, mau kenalan ga?\n"
     ]
    }
   ],
   "source": [
    "kali = 0 #mengisi variable kali agar tidak terjadi infinite loop cetak true\n",
    "while kali < 5:\n",
    "    print(f\"kali : {kali}\")\n",
    "    print(\"hai cantik, mau kenalan ga?\")\n",
    "    kali = kali + 1"
   ]
  },
  {
   "cell_type": "code",
   "execution_count": 4,
   "id": "da6880a9",
   "metadata": {},
   "outputs": [
    {
     "name": "stdout",
     "output_type": "stream",
     "text": [
      "masukkan pesanan anda : mie ayam\n",
      "masukkan pesanan anda : mie goreng\n",
      "masukkan pesanan anda : nasi padang\n",
      "masukkan pesanan anda : takoyaki\n",
      "masukkan pesanan anda : cukup\n"
     ]
    }
   ],
   "source": [
    "list_makanan = []\n",
    "makanan = ''\n",
    "makanan = input(\"masukkan pesanan anda : \")\n",
    "while makanan != 'cukup':\n",
    "    if makanan != '':\n",
    "        list_makanan.append(makanan)\n",
    "    makanan = input(\"masukkan pesanan anda : \")"
   ]
  },
  {
   "cell_type": "code",
   "execution_count": 5,
   "id": "d9c10d50",
   "metadata": {},
   "outputs": [
    {
     "data": {
      "text/plain": [
       "['mie ayam', 'mie goreng', 'nasi padang', 'takoyaki']"
      ]
     },
     "execution_count": 5,
     "metadata": {},
     "output_type": "execute_result"
    }
   ],
   "source": [
    "list_makanan"
   ]
  },
  {
   "cell_type": "code",
   "execution_count": 12,
   "id": "76784ea2",
   "metadata": {},
   "outputs": [
    {
     "name": "stdout",
     "output_type": "stream",
     "text": [
      "masukkan pesanan anda : Tapir\n",
      "masukkan pesanan anda : beguling\n",
      "masukkan pesanan anda : cukup\n"
     ]
    }
   ],
   "source": [
    "list_makanan = []\n",
    "makanan = ''\n",
    "while makanan != 'cukup':\n",
    "    if makanan != '':\n",
    "        list_makanan.append(makanan)\n",
    "    makanan = input(\"masukkan pesanan anda : \")"
   ]
  },
  {
   "cell_type": "code",
   "execution_count": 13,
   "id": "cc75e9a9",
   "metadata": {},
   "outputs": [
    {
     "data": {
      "text/plain": [
       "['Tapir', 'beguling']"
      ]
     },
     "execution_count": 13,
     "metadata": {},
     "output_type": "execute_result"
    }
   ],
   "source": [
    "list_makanan"
   ]
  },
  {
   "cell_type": "markdown",
   "id": "0027d294",
   "metadata": {},
   "source": [
    "### *while loop mat*"
   ]
  },
  {
   "cell_type": "code",
   "execution_count": 7,
   "id": "80ff0f65",
   "metadata": {},
   "outputs": [
    {
     "name": "stdout",
     "output_type": "stream",
     "text": [
      "7 x 1 = 7\n",
      "7 x 2 = 14\n",
      "7 x 3 = 21\n",
      "7 x 4 = 28\n",
      "7 x 5 = 35\n"
     ]
    }
   ],
   "source": [
    "# tabel perkalian\n",
    "print(f'{7} x {1} = {7*1}')\n",
    "print(f'{7} x {2} = {7*2}')\n",
    "print(f'{7} x {3} = {7*3}')\n",
    "print(f'{7} x {4} = {7*4}')\n",
    "print(f'{7} x {5} = {7*5}')"
   ]
  },
  {
   "cell_type": "code",
   "execution_count": 14,
   "id": "38bc24f7",
   "metadata": {
    "scrolled": true
   },
   "outputs": [
    {
     "name": "stdout",
     "output_type": "stream",
     "text": [
      "7 x 1 = 7\n",
      "7 x 2 = 14\n",
      "7 x 3 = 21\n",
      "7 x 4 = 28\n",
      "7 x 5 = 35\n",
      "7 x 6 = 42\n",
      "7 x 7 = 49\n",
      "7 x 8 = 56\n",
      "7 x 9 = 63\n",
      "7 x 10 = 70\n"
     ]
    }
   ],
   "source": [
    "i = 1\n",
    "while i <= 10:\n",
    "    print(f'{7} x {i} = {7*i}')\n",
    "    #i = i + 1\n",
    "    i += 1"
   ]
  },
  {
   "cell_type": "code",
   "execution_count": 22,
   "id": "79cf515c",
   "metadata": {},
   "outputs": [
    {
     "name": "stdout",
     "output_type": "stream",
     "text": [
      "7 x 1 = 7\n",
      "7 x 2 = 14\n",
      "7 x 3 = 21\n",
      "7 x 4 = 28\n",
      "7 x 5 = 35\n",
      "7 x 6 = 42\n"
     ]
    }
   ],
   "source": [
    "i = 1\n",
    "while i <= 10:\n",
    "    if i == 7:\n",
    "        break\n",
    "    print(f\"{7} x {i} = {7*i}\")\n",
    "    i += 1"
   ]
  },
  {
   "cell_type": "markdown",
   "id": "4e2dafc8",
   "metadata": {},
   "source": [
    "### *For loop*"
   ]
  },
  {
   "cell_type": "code",
   "execution_count": 15,
   "id": "44d618bd",
   "metadata": {
    "scrolled": true
   },
   "outputs": [
    {
     "name": "stdout",
     "output_type": "stream",
     "text": [
      "saya jual pepaya\n",
      "saya jual mangga\n",
      "saya jual pisang\n",
      "saya jual jambu\n"
     ]
    }
   ],
   "source": [
    "buah_buahan = [\"pepaya\", \"mangga\", \"pisang\", \"jambu\"] #tidak riskan infinite loop seperti while\n",
    "for item in buah_buahan:\n",
    "    print(f\"saya jual {item}\")"
   ]
  },
  {
   "cell_type": "markdown",
   "id": "2d720c51",
   "metadata": {},
   "source": [
    "#### For loop mat"
   ]
  },
  {
   "cell_type": "code",
   "execution_count": 16,
   "id": "b823c65e",
   "metadata": {},
   "outputs": [
    {
     "name": "stdout",
     "output_type": "stream",
     "text": [
      "7 x 1 = 7\n",
      "7 x 2 = 14\n",
      "7 x 3 = 21\n",
      "7 x 4 = 28\n",
      "7 x 5 = 35\n",
      "7 x 6 = 42\n",
      "7 x 7 = 49\n",
      "7 x 8 = 56\n",
      "7 x 9 = 63\n",
      "7 x 10 = 70\n"
     ]
    }
   ],
   "source": [
    "for i in (1,2,3,4,5,6,7,8,9,10):\n",
    "    print(f\"{7} x {i} = {7*i}\")"
   ]
  },
  {
   "cell_type": "code",
   "execution_count": 18,
   "id": "972ad6f4",
   "metadata": {},
   "outputs": [
    {
     "data": {
      "text/plain": [
       "[1, 2, 3, 4, 5, 6, 7, 8, 9, 10]"
      ]
     },
     "execution_count": 18,
     "metadata": {},
     "output_type": "execute_result"
    }
   ],
   "source": [
    "list(range(1,11,1)) #list(range(nawal,nakhir,nkenaikan)"
   ]
  },
  {
   "cell_type": "markdown",
   "id": "e6ef68a0",
   "metadata": {},
   "source": [
    "#### Studi kasus untuk membehentikan keyword "
   ]
  },
  {
   "cell_type": "code",
   "execution_count": 20,
   "id": "8705be35",
   "metadata": {},
   "outputs": [
    {
     "name": "stdout",
     "output_type": "stream",
     "text": [
      "7 x 1 = 7\n",
      "7 x 2 = 14\n",
      "7 x 3 = 21\n",
      "7 x 4 = 28\n",
      "7 x 5 = 35\n",
      "7 x 6 = 42\n"
     ]
    }
   ],
   "source": [
    "# special keyword : break\n",
    "for i in range (1, 11):\n",
    "    if i == 7: #stop sebelum nilai i\n",
    "        break\n",
    "    print(f\"{7} x {i} = {7*i}\")"
   ]
  },
  {
   "cell_type": "code",
   "execution_count": 21,
   "id": "67bd8ed3",
   "metadata": {},
   "outputs": [
    {
     "name": "stdout",
     "output_type": "stream",
     "text": [
      "7 x 1 = 7\n",
      "7 x 2 = 14\n",
      "7 x 3 = 21\n",
      "7 x 4 = 28\n",
      "7 x 5 = 35\n",
      "7 x 6 = 42\n",
      "7 x 8 = 56\n",
      "7 x 9 = 63\n",
      "7 x 10 = 70\n"
     ]
    }
   ],
   "source": [
    "# special keyword : continue \n",
    "for i in range (1, 11):\n",
    "    if i == 7:  #skip nilai i\n",
    "        continue #pengunaan continue jangan dibawah\n",
    "    print(f\"{7} x {i} = {7*i}\")"
   ]
  },
  {
   "cell_type": "markdown",
   "id": "52771316",
   "metadata": {},
   "source": [
    "## Game Tebak2an"
   ]
  },
  {
   "cell_type": "code",
   "execution_count": 23,
   "id": "8e944838",
   "metadata": {},
   "outputs": [],
   "source": [
    "from random import randint #random interger"
   ]
  },
  {
   "cell_type": "code",
   "execution_count": 28,
   "id": "434d849f",
   "metadata": {},
   "outputs": [
    {
     "data": {
      "text/plain": [
       "3"
      ]
     },
     "execution_count": 28,
     "metadata": {},
     "output_type": "execute_result"
    }
   ],
   "source": [
    "randint(1, 10)"
   ]
  },
  {
   "cell_type": "markdown",
   "id": "a1c902aa",
   "metadata": {},
   "source": [
    "#### tebak random variabel dengan while loop"
   ]
  },
  {
   "cell_type": "code",
   "execution_count": 36,
   "id": "d7a67334",
   "metadata": {},
   "outputs": [
    {
     "name": "stdout",
     "output_type": "stream",
     "text": [
      "Masukkan Tebakan Anda : 8\n",
      "Angka terlalu besar\n",
      "Masukkan Tebakan Anda : 5\n",
      "Angka terlalu kecil\n",
      "Masukkan Tebakan Anda : 6\n",
      "Angka terlalu kecil\n",
      "Masukkan Tebakan Anda : 7\n",
      "Selamat, anda menebak dengan benar\n",
      "Angka komputer adalah 7\n"
     ]
    }
   ],
   "source": [
    "angka_komputer = randint(1, 10)\n",
    "angka_tebakan = 0 #sebagai inisiasi\n",
    "while angka_tebakan != angka_komputer:\n",
    "    angka_tebakan = input(\"Masukkan Tebakan Anda : \")\n",
    "    angka_tebakan = int(angka_tebakan) #agar tidak selalu false karena beda type\n",
    "    if angka_tebakan < angka_komputer:\n",
    "        print(\"Angka terlalu kecil\")\n",
    "    elif angka_tebakan > angka_komputer:\n",
    "        print(\"Angka terlalu besar\")\n",
    "    else:\n",
    "        print(\"Selamat, anda menebak dengan benar\")\n",
    "        print(f\"Angka komputer adalah {angka_komputer}\")"
   ]
  },
  {
   "cell_type": "code",
   "execution_count": 41,
   "id": "cca3029c",
   "metadata": {},
   "outputs": [
    {
     "name": "stdout",
     "output_type": "stream",
     "text": [
      "Nilai b : 8\n"
     ]
    },
    {
     "data": {
      "text/plain": [
       "False"
      ]
     },
     "execution_count": 41,
     "metadata": {},
     "output_type": "execute_result"
    }
   ],
   "source": [
    "a = 8\n",
    "b = a\n",
    "b = input(\"Nilai b : \")\n",
    "a == b"
   ]
  },
  {
   "cell_type": "code",
   "execution_count": 42,
   "id": "a96c4b52",
   "metadata": {},
   "outputs": [
    {
     "name": "stdout",
     "output_type": "stream",
     "text": [
      "Nilai b : 8\n"
     ]
    },
    {
     "data": {
      "text/plain": [
       "True"
      ]
     },
     "execution_count": 42,
     "metadata": {},
     "output_type": "execute_result"
    }
   ],
   "source": [
    "a = 8\n",
    "b = a\n",
    "b = input(\"Nilai b : \")\n",
    "b = int(a)\n",
    "a == b"
   ]
  },
  {
   "cell_type": "markdown",
   "id": "dae16c2b",
   "metadata": {},
   "source": [
    "###### **Upgrade**"
   ]
  },
  {
   "cell_type": "code",
   "execution_count": 45,
   "id": "cdc4db9d",
   "metadata": {},
   "outputs": [
    {
     "name": "stdout",
     "output_type": "stream",
     "text": [
      "Masukkan Tebakan Anda : 8\n",
      "Selamat, anda menebak dengan benar\n",
      "Angka komputer adalah 8\n",
      "Anda punya 2 kesempatan lagi\n"
     ]
    }
   ],
   "source": [
    "angka_komputer = randint(1, 10)\n",
    "angka_tebakan = 0 #sebagai inisiasi\n",
    "kesempatan = 3\n",
    "while angka_tebakan != angka_komputer and kesempatan > 0:\n",
    "    angka_tebakan = input(\"Masukkan Tebakan Anda : \")\n",
    "    angka_tebakan = int(angka_tebakan) #agar tidak selalu false karena beda type\n",
    "    if angka_tebakan < angka_komputer:\n",
    "        print(\"Angka terlalu kecil\")\n",
    "        kesempatan -= 1\n",
    "    elif angka_tebakan > angka_komputer:\n",
    "        print(\"Angka terlalu besar\")\n",
    "        kesempatan -= 1\n",
    "    else:\n",
    "        print(\"Selamat, anda menebak dengan benar\")\n",
    "        print(f\"Angka komputer adalah {angka_komputer}\")\n",
    "        print(f\"Anda punya {kesempatan -1} kesempatan lagi\")\n",
    "    if kesempatan == 0:\n",
    "        print(\"Anda adalah faliure\")"
   ]
  },
  {
   "cell_type": "code",
   "execution_count": null,
   "id": "56593164",
   "metadata": {},
   "outputs": [],
   "source": []
  }
 ],
 "metadata": {
  "kernelspec": {
   "display_name": "Python 3 (ipykernel)",
   "language": "python",
   "name": "python3"
  },
  "language_info": {
   "codemirror_mode": {
    "name": "ipython",
    "version": 3
   },
   "file_extension": ".py",
   "mimetype": "text/x-python",
   "name": "python",
   "nbconvert_exporter": "python",
   "pygments_lexer": "ipython3",
   "version": "3.9.7"
  }
 },
 "nbformat": 4,
 "nbformat_minor": 5
}
