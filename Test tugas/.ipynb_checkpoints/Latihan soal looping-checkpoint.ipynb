{
 "cells": [
  {
   "cell_type": "markdown",
   "id": "2edbba89",
   "metadata": {},
   "source": [
    "---\n",
    "\n",
    "# ___Latihan Soal___\n",
    "\n",
    "---"
   ]
  },
  {
   "cell_type": "markdown",
   "id": "aa11ee59",
   "metadata": {},
   "source": [
    "### ___Buatlah sebuah list dengan value berupa :___"
   ]
  },
  {
   "cell_type": "code",
   "execution_count": 17,
   "id": "7b0a74ce",
   "metadata": {},
   "outputs": [],
   "source": [
    "numbers = [951,405, 984, 651, 360, \n",
    "           69, 408, 319, 601, 485, \n",
    "           980, 507, 725, 547, 544, \n",
    "           615, 83, 165, 141, 501, \n",
    "           263, 617, 865, 575, 219, \n",
    "           390, 984, 592, 236, 105, \n",
    "           942, 941, 386, 462, 47, \n",
    "           418, 907, 344, 236, 375, \n",
    "           823, 566, 597, 987, 328, \n",
    "           615, 953, 345, 399, 162, \n",
    "           758, 219, 918, 237, 412, \n",
    "           566, 826, 248, 866, 950, \n",
    "           626, 949]"
   ]
  },
  {
   "cell_type": "markdown",
   "id": "49e0de5e",
   "metadata": {},
   "source": [
    "##### __a. Loop dan print semua angka genap dari list  angka diatas dengan urutan yang sama. <br> b. Jangan mencetak angka apapun yang muncul setelah angka 918 berdasarkan posisi angka tersebut. <br> c. Tampilkan pesan \"Done\" setelah looping berakhir.__"
   ]
  },
  {
   "cell_type": "code",
   "execution_count": 41,
   "id": "58c85b6b",
   "metadata": {},
   "outputs": [
    {
     "name": "stdout",
     "output_type": "stream",
     "text": [
      "984\n",
      "360\n",
      "408\n",
      "980\n",
      "544\n",
      "390\n",
      "984\n",
      "592\n",
      "236\n",
      "942\n",
      "386\n",
      "462\n",
      "418\n",
      "344\n",
      "236\n",
      "566\n",
      "328\n",
      "162\n",
      "758\n",
      "918\n",
      "Done\n"
     ]
    }
   ],
   "source": [
    "for item in numbers:\n",
    "    if item % 2 == 0:     # kondisi : menyaring item didalam number yang tidak ada sisah bagi jika dibagi dua\n",
    "        print(item)       # perintah print item hasil yang tersaring dari perintah atas\n",
    "        if item == 918:   # kondisi : jika pada saat looping mencetak angka \"918\"\n",
    "            print('Done') # perintah print \"Done\"\n",
    "            break         # perintah stop ketika 2 perintah diatas terpenuhi"
   ]
  },
  {
   "cell_type": "markdown",
   "id": "fcc6022f",
   "metadata": {},
   "source": []
  }
 ],
 "metadata": {
  "kernelspec": {
   "display_name": "Python 3 (ipykernel)",
   "language": "python",
   "name": "python3"
  },
  "language_info": {
   "codemirror_mode": {
    "name": "ipython",
    "version": 3
   },
   "file_extension": ".py",
   "mimetype": "text/x-python",
   "name": "python",
   "nbconvert_exporter": "python",
   "pygments_lexer": "ipython3",
   "version": "3.9.7"
  }
 },
 "nbformat": 4,
 "nbformat_minor": 5
}
